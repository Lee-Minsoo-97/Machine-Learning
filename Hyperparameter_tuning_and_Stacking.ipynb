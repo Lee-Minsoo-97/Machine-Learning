{
  "nbformat": 4,
  "nbformat_minor": 0,
  "metadata": {
    "colab": {
      "provenance": [],
      "mount_file_id": "1FMHnxIXS2OlqgG2xep1Bu4Z408aRz_3J",
      "authorship_tag": "ABX9TyMjFDw4229w2jiipGloCqWZ",
      "include_colab_link": true
    },
    "kernelspec": {
      "name": "python3",
      "display_name": "Python 3"
    },
    "language_info": {
      "name": "python"
    }
  },
  "cells": [
    {
      "cell_type": "markdown",
      "metadata": {
        "id": "view-in-github",
        "colab_type": "text"
      },
      "source": [
        "<a href=\"https://colab.research.google.com/github/Lee-Minsoo-97/Machine-Learning/blob/main/Hyperparameter_tuning_and_Stacking.ipynb\" target=\"_parent\"><img src=\"https://colab.research.google.com/assets/colab-badge.svg\" alt=\"Open In Colab\"/></a>"
      ]
    },
    {
      "cell_type": "code",
      "execution_count": null,
      "metadata": {
        "id": "Xn0UTY3Rk2ja"
      },
      "outputs": [],
      "source": [
        "#imports\n",
        "\n",
        "\n",
        "import numpy as np\n",
        "import pandas as pd\n",
        "from sklearn.model_selection import train_test_split, GridSearchCV, cross_val_predict\n",
        "from sklearn.preprocessing import StandardScaler, LabelEncoder\n",
        "from sklearn.ensemble import RandomForestRegressor\n",
        "from sklearn.tree import DecisionTreeRegressor\n",
        "from sklearn.linear_model import SGDRegressor\n",
        "from sklearn.svm import SVR\n",
        "from sklearn.neural_network import MLPRegressor\n",
        "from sklearn.metrics import mean_squared_error, r2_score\n",
        "from sklearn.ensemble import StackingRegressor\n",
        "import joblib  # for saving models if needed\n",
        "import os      # for handling file paths\n"
      ]
    },
    {
      "cell_type": "code",
      "source": [],
      "metadata": {
        "id": "A1YUA2qXm_LE"
      },
      "execution_count": null,
      "outputs": []
    },
    {
      "cell_type": "code",
      "source": [
        "from google.colab import drive\n",
        "drive.mount('/content/drive')"
      ],
      "metadata": {
        "colab": {
          "base_uri": "https://localhost:8080/"
        },
        "id": "jT4f0GwGnAQS",
        "outputId": "d3971b54-abac-44c1-9afd-f323226407fd"
      },
      "execution_count": null,
      "outputs": [
        {
          "output_type": "stream",
          "name": "stdout",
          "text": [
            "Mounted at /content/drive\n"
          ]
        }
      ]
    },
    {
      "cell_type": "code",
      "source": [
        "# data import\n",
        "\n",
        "path_test = '/content/drive/MyDrive/Colab Notebooks/CIS508_Machine_Learning/Individual_Assignment/test.csv'\n",
        "path_train = '/content/drive/MyDrive/Colab Notebooks/CIS508_Machine_Learning/Individual_Assignment/train.csv'\n",
        "\n",
        "df_test = pd.read_csv(path_test)\n",
        "df_train = pd.read_csv(path_train)"
      ],
      "metadata": {
        "id": "L1ODl_-am4Kl"
      },
      "execution_count": null,
      "outputs": []
    },
    {
      "cell_type": "code",
      "source": [
        "df_train.columns"
      ],
      "metadata": {
        "colab": {
          "base_uri": "https://localhost:8080/"
        },
        "id": "SJTchgBxnVXN",
        "outputId": "4d78ac6a-46f3-40e7-ca44-041d60044b24"
      },
      "execution_count": null,
      "outputs": [
        {
          "output_type": "execute_result",
          "data": {
            "text/plain": [
              "Index(['Id', 'Open Date', 'City', 'City Group', 'Type', 'P1', 'P2', 'P3', 'P4',\n",
              "       'P5', 'P6', 'P7', 'P8', 'P9', 'P10', 'P11', 'P12', 'P13', 'P14', 'P15',\n",
              "       'P16', 'P17', 'P18', 'P19', 'P20', 'P21', 'P22', 'P23', 'P24', 'P25',\n",
              "       'P26', 'P27', 'P28', 'P29', 'P30', 'P31', 'P32', 'P33', 'P34', 'P35',\n",
              "       'P36', 'P37', 'revenue'],\n",
              "      dtype='object')"
            ]
          },
          "metadata": {},
          "execution_count": 12
        }
      ]
    },
    {
      "cell_type": "code",
      "source": [
        "df_test.shape"
      ],
      "metadata": {
        "colab": {
          "base_uri": "https://localhost:8080/"
        },
        "id": "hgQv_UYOnXYC",
        "outputId": "09db51da-b2b9-4eeb-a1f3-cd40beefdd62"
      },
      "execution_count": null,
      "outputs": [
        {
          "output_type": "execute_result",
          "data": {
            "text/plain": [
              "(100000, 42)"
            ]
          },
          "metadata": {},
          "execution_count": 10
        }
      ]
    },
    {
      "cell_type": "code",
      "source": [
        "# check if there are NAs\n",
        "\n",
        "#df_train.isna().sum()\n",
        "#df_test.isna().sum()"
      ],
      "metadata": {
        "id": "ZxGB9Fm2nZfo"
      },
      "execution_count": null,
      "outputs": []
    },
    {
      "cell_type": "code",
      "source": [
        "# Drop 'Id' column\n",
        "df_train.drop('Id', axis=1, inplace=True)\n",
        "df_test.drop('Id', axis=1, inplace=True)\n",
        "\n",
        "# Convert 'Open Date' to 'Restaurant Age'\n",
        "from datetime import datetime\n",
        "current_date = datetime.now()\n",
        "df_train['Restaurant Age'] = (current_date - pd.to_datetime(df_train['Open Date'])).dt.days\n",
        "df_test['Restaurant Age'] = (current_date - pd.to_datetime(df_test['Open Date'])).dt.days\n",
        "\n",
        "# Drop 'Open Date' as it's no longer needed\n",
        "df_train.drop('Open Date', axis=1, inplace=True)\n",
        "df_test.drop('Open Date', axis=1, inplace=True)"
      ],
      "metadata": {
        "id": "cPTyuNDjoPca"
      },
      "execution_count": null,
      "outputs": []
    },
    {
      "cell_type": "code",
      "source": [
        "df_train.head()"
      ],
      "metadata": {
        "colab": {
          "base_uri": "https://localhost:8080/",
          "height": 235
        },
        "id": "O7IEa-t8otAd",
        "outputId": "b1862fbb-ed18-4301-b525-6fc2a3c0f054"
      },
      "execution_count": null,
      "outputs": [
        {
          "output_type": "execute_result",
          "data": {
            "text/plain": [
              "         City  City Group Type  P1   P2   P3   P4  P5  P6  P7  ...  P30  P31  \\\n",
              "0    İstanbul  Big Cities   IL   4  5.0  4.0  4.0   2   2   5  ...    5    3   \n",
              "1      Ankara  Big Cities   FC   4  5.0  4.0  4.0   1   2   5  ...    0    0   \n",
              "2  Diyarbakır       Other   IL   2  4.0  2.0  5.0   2   3   5  ...    0    0   \n",
              "3       Tokat       Other   IL   6  4.5  6.0  6.0   4   4  10  ...   25   12   \n",
              "4   Gaziantep       Other   IL   3  4.0  3.0  4.0   2   2   5  ...    5    1   \n",
              "\n",
              "   P32  P33  P34  P35  P36  P37    revenue  Restaurant Age  \n",
              "0    4    5    5    4    3    4  5653753.0            9261  \n",
              "1    0    0    0    0    0    0  6923131.0            6127  \n",
              "2    0    0    0    0    0    0  2055379.0            4277  \n",
              "3   10    6   18   12   12    6  2675511.0            4678  \n",
              "4    3    2    3    4    3    3  4316715.0            5677  \n",
              "\n",
              "[5 rows x 42 columns]"
            ],
            "text/html": [
              "\n",
              "  <div id=\"df-7add25a2-2ae2-47ce-9bd4-3bef9588a50d\" class=\"colab-df-container\">\n",
              "    <div>\n",
              "<style scoped>\n",
              "    .dataframe tbody tr th:only-of-type {\n",
              "        vertical-align: middle;\n",
              "    }\n",
              "\n",
              "    .dataframe tbody tr th {\n",
              "        vertical-align: top;\n",
              "    }\n",
              "\n",
              "    .dataframe thead th {\n",
              "        text-align: right;\n",
              "    }\n",
              "</style>\n",
              "<table border=\"1\" class=\"dataframe\">\n",
              "  <thead>\n",
              "    <tr style=\"text-align: right;\">\n",
              "      <th></th>\n",
              "      <th>City</th>\n",
              "      <th>City Group</th>\n",
              "      <th>Type</th>\n",
              "      <th>P1</th>\n",
              "      <th>P2</th>\n",
              "      <th>P3</th>\n",
              "      <th>P4</th>\n",
              "      <th>P5</th>\n",
              "      <th>P6</th>\n",
              "      <th>P7</th>\n",
              "      <th>...</th>\n",
              "      <th>P30</th>\n",
              "      <th>P31</th>\n",
              "      <th>P32</th>\n",
              "      <th>P33</th>\n",
              "      <th>P34</th>\n",
              "      <th>P35</th>\n",
              "      <th>P36</th>\n",
              "      <th>P37</th>\n",
              "      <th>revenue</th>\n",
              "      <th>Restaurant Age</th>\n",
              "    </tr>\n",
              "  </thead>\n",
              "  <tbody>\n",
              "    <tr>\n",
              "      <th>0</th>\n",
              "      <td>İstanbul</td>\n",
              "      <td>Big Cities</td>\n",
              "      <td>IL</td>\n",
              "      <td>4</td>\n",
              "      <td>5.0</td>\n",
              "      <td>4.0</td>\n",
              "      <td>4.0</td>\n",
              "      <td>2</td>\n",
              "      <td>2</td>\n",
              "      <td>5</td>\n",
              "      <td>...</td>\n",
              "      <td>5</td>\n",
              "      <td>3</td>\n",
              "      <td>4</td>\n",
              "      <td>5</td>\n",
              "      <td>5</td>\n",
              "      <td>4</td>\n",
              "      <td>3</td>\n",
              "      <td>4</td>\n",
              "      <td>5653753.0</td>\n",
              "      <td>9261</td>\n",
              "    </tr>\n",
              "    <tr>\n",
              "      <th>1</th>\n",
              "      <td>Ankara</td>\n",
              "      <td>Big Cities</td>\n",
              "      <td>FC</td>\n",
              "      <td>4</td>\n",
              "      <td>5.0</td>\n",
              "      <td>4.0</td>\n",
              "      <td>4.0</td>\n",
              "      <td>1</td>\n",
              "      <td>2</td>\n",
              "      <td>5</td>\n",
              "      <td>...</td>\n",
              "      <td>0</td>\n",
              "      <td>0</td>\n",
              "      <td>0</td>\n",
              "      <td>0</td>\n",
              "      <td>0</td>\n",
              "      <td>0</td>\n",
              "      <td>0</td>\n",
              "      <td>0</td>\n",
              "      <td>6923131.0</td>\n",
              "      <td>6127</td>\n",
              "    </tr>\n",
              "    <tr>\n",
              "      <th>2</th>\n",
              "      <td>Diyarbakır</td>\n",
              "      <td>Other</td>\n",
              "      <td>IL</td>\n",
              "      <td>2</td>\n",
              "      <td>4.0</td>\n",
              "      <td>2.0</td>\n",
              "      <td>5.0</td>\n",
              "      <td>2</td>\n",
              "      <td>3</td>\n",
              "      <td>5</td>\n",
              "      <td>...</td>\n",
              "      <td>0</td>\n",
              "      <td>0</td>\n",
              "      <td>0</td>\n",
              "      <td>0</td>\n",
              "      <td>0</td>\n",
              "      <td>0</td>\n",
              "      <td>0</td>\n",
              "      <td>0</td>\n",
              "      <td>2055379.0</td>\n",
              "      <td>4277</td>\n",
              "    </tr>\n",
              "    <tr>\n",
              "      <th>3</th>\n",
              "      <td>Tokat</td>\n",
              "      <td>Other</td>\n",
              "      <td>IL</td>\n",
              "      <td>6</td>\n",
              "      <td>4.5</td>\n",
              "      <td>6.0</td>\n",
              "      <td>6.0</td>\n",
              "      <td>4</td>\n",
              "      <td>4</td>\n",
              "      <td>10</td>\n",
              "      <td>...</td>\n",
              "      <td>25</td>\n",
              "      <td>12</td>\n",
              "      <td>10</td>\n",
              "      <td>6</td>\n",
              "      <td>18</td>\n",
              "      <td>12</td>\n",
              "      <td>12</td>\n",
              "      <td>6</td>\n",
              "      <td>2675511.0</td>\n",
              "      <td>4678</td>\n",
              "    </tr>\n",
              "    <tr>\n",
              "      <th>4</th>\n",
              "      <td>Gaziantep</td>\n",
              "      <td>Other</td>\n",
              "      <td>IL</td>\n",
              "      <td>3</td>\n",
              "      <td>4.0</td>\n",
              "      <td>3.0</td>\n",
              "      <td>4.0</td>\n",
              "      <td>2</td>\n",
              "      <td>2</td>\n",
              "      <td>5</td>\n",
              "      <td>...</td>\n",
              "      <td>5</td>\n",
              "      <td>1</td>\n",
              "      <td>3</td>\n",
              "      <td>2</td>\n",
              "      <td>3</td>\n",
              "      <td>4</td>\n",
              "      <td>3</td>\n",
              "      <td>3</td>\n",
              "      <td>4316715.0</td>\n",
              "      <td>5677</td>\n",
              "    </tr>\n",
              "  </tbody>\n",
              "</table>\n",
              "<p>5 rows × 42 columns</p>\n",
              "</div>\n",
              "    <div class=\"colab-df-buttons\">\n",
              "\n",
              "  <div class=\"colab-df-container\">\n",
              "    <button class=\"colab-df-convert\" onclick=\"convertToInteractive('df-7add25a2-2ae2-47ce-9bd4-3bef9588a50d')\"\n",
              "            title=\"Convert this dataframe to an interactive table.\"\n",
              "            style=\"display:none;\">\n",
              "\n",
              "  <svg xmlns=\"http://www.w3.org/2000/svg\" height=\"24px\" viewBox=\"0 -960 960 960\">\n",
              "    <path d=\"M120-120v-720h720v720H120Zm60-500h600v-160H180v160Zm220 220h160v-160H400v160Zm0 220h160v-160H400v160ZM180-400h160v-160H180v160Zm440 0h160v-160H620v160ZM180-180h160v-160H180v160Zm440 0h160v-160H620v160Z\"/>\n",
              "  </svg>\n",
              "    </button>\n",
              "\n",
              "  <style>\n",
              "    .colab-df-container {\n",
              "      display:flex;\n",
              "      gap: 12px;\n",
              "    }\n",
              "\n",
              "    .colab-df-convert {\n",
              "      background-color: #E8F0FE;\n",
              "      border: none;\n",
              "      border-radius: 50%;\n",
              "      cursor: pointer;\n",
              "      display: none;\n",
              "      fill: #1967D2;\n",
              "      height: 32px;\n",
              "      padding: 0 0 0 0;\n",
              "      width: 32px;\n",
              "    }\n",
              "\n",
              "    .colab-df-convert:hover {\n",
              "      background-color: #E2EBFA;\n",
              "      box-shadow: 0px 1px 2px rgba(60, 64, 67, 0.3), 0px 1px 3px 1px rgba(60, 64, 67, 0.15);\n",
              "      fill: #174EA6;\n",
              "    }\n",
              "\n",
              "    .colab-df-buttons div {\n",
              "      margin-bottom: 4px;\n",
              "    }\n",
              "\n",
              "    [theme=dark] .colab-df-convert {\n",
              "      background-color: #3B4455;\n",
              "      fill: #D2E3FC;\n",
              "    }\n",
              "\n",
              "    [theme=dark] .colab-df-convert:hover {\n",
              "      background-color: #434B5C;\n",
              "      box-shadow: 0px 1px 3px 1px rgba(0, 0, 0, 0.15);\n",
              "      filter: drop-shadow(0px 1px 2px rgba(0, 0, 0, 0.3));\n",
              "      fill: #FFFFFF;\n",
              "    }\n",
              "  </style>\n",
              "\n",
              "    <script>\n",
              "      const buttonEl =\n",
              "        document.querySelector('#df-7add25a2-2ae2-47ce-9bd4-3bef9588a50d button.colab-df-convert');\n",
              "      buttonEl.style.display =\n",
              "        google.colab.kernel.accessAllowed ? 'block' : 'none';\n",
              "\n",
              "      async function convertToInteractive(key) {\n",
              "        const element = document.querySelector('#df-7add25a2-2ae2-47ce-9bd4-3bef9588a50d');\n",
              "        const dataTable =\n",
              "          await google.colab.kernel.invokeFunction('convertToInteractive',\n",
              "                                                    [key], {});\n",
              "        if (!dataTable) return;\n",
              "\n",
              "        const docLinkHtml = 'Like what you see? Visit the ' +\n",
              "          '<a target=\"_blank\" href=https://colab.research.google.com/notebooks/data_table.ipynb>data table notebook</a>'\n",
              "          + ' to learn more about interactive tables.';\n",
              "        element.innerHTML = '';\n",
              "        dataTable['output_type'] = 'display_data';\n",
              "        await google.colab.output.renderOutput(dataTable, element);\n",
              "        const docLink = document.createElement('div');\n",
              "        docLink.innerHTML = docLinkHtml;\n",
              "        element.appendChild(docLink);\n",
              "      }\n",
              "    </script>\n",
              "  </div>\n",
              "\n",
              "\n",
              "<div id=\"df-76500c96-3e78-47ee-ad1d-bf672af8d0ca\">\n",
              "  <button class=\"colab-df-quickchart\" onclick=\"quickchart('df-76500c96-3e78-47ee-ad1d-bf672af8d0ca')\"\n",
              "            title=\"Suggest charts\"\n",
              "            style=\"display:none;\">\n",
              "\n",
              "<svg xmlns=\"http://www.w3.org/2000/svg\" height=\"24px\"viewBox=\"0 0 24 24\"\n",
              "     width=\"24px\">\n",
              "    <g>\n",
              "        <path d=\"M19 3H5c-1.1 0-2 .9-2 2v14c0 1.1.9 2 2 2h14c1.1 0 2-.9 2-2V5c0-1.1-.9-2-2-2zM9 17H7v-7h2v7zm4 0h-2V7h2v10zm4 0h-2v-4h2v4z\"/>\n",
              "    </g>\n",
              "</svg>\n",
              "  </button>\n",
              "\n",
              "<style>\n",
              "  .colab-df-quickchart {\n",
              "      --bg-color: #E8F0FE;\n",
              "      --fill-color: #1967D2;\n",
              "      --hover-bg-color: #E2EBFA;\n",
              "      --hover-fill-color: #174EA6;\n",
              "      --disabled-fill-color: #AAA;\n",
              "      --disabled-bg-color: #DDD;\n",
              "  }\n",
              "\n",
              "  [theme=dark] .colab-df-quickchart {\n",
              "      --bg-color: #3B4455;\n",
              "      --fill-color: #D2E3FC;\n",
              "      --hover-bg-color: #434B5C;\n",
              "      --hover-fill-color: #FFFFFF;\n",
              "      --disabled-bg-color: #3B4455;\n",
              "      --disabled-fill-color: #666;\n",
              "  }\n",
              "\n",
              "  .colab-df-quickchart {\n",
              "    background-color: var(--bg-color);\n",
              "    border: none;\n",
              "    border-radius: 50%;\n",
              "    cursor: pointer;\n",
              "    display: none;\n",
              "    fill: var(--fill-color);\n",
              "    height: 32px;\n",
              "    padding: 0;\n",
              "    width: 32px;\n",
              "  }\n",
              "\n",
              "  .colab-df-quickchart:hover {\n",
              "    background-color: var(--hover-bg-color);\n",
              "    box-shadow: 0 1px 2px rgba(60, 64, 67, 0.3), 0 1px 3px 1px rgba(60, 64, 67, 0.15);\n",
              "    fill: var(--button-hover-fill-color);\n",
              "  }\n",
              "\n",
              "  .colab-df-quickchart-complete:disabled,\n",
              "  .colab-df-quickchart-complete:disabled:hover {\n",
              "    background-color: var(--disabled-bg-color);\n",
              "    fill: var(--disabled-fill-color);\n",
              "    box-shadow: none;\n",
              "  }\n",
              "\n",
              "  .colab-df-spinner {\n",
              "    border: 2px solid var(--fill-color);\n",
              "    border-color: transparent;\n",
              "    border-bottom-color: var(--fill-color);\n",
              "    animation:\n",
              "      spin 1s steps(1) infinite;\n",
              "  }\n",
              "\n",
              "  @keyframes spin {\n",
              "    0% {\n",
              "      border-color: transparent;\n",
              "      border-bottom-color: var(--fill-color);\n",
              "      border-left-color: var(--fill-color);\n",
              "    }\n",
              "    20% {\n",
              "      border-color: transparent;\n",
              "      border-left-color: var(--fill-color);\n",
              "      border-top-color: var(--fill-color);\n",
              "    }\n",
              "    30% {\n",
              "      border-color: transparent;\n",
              "      border-left-color: var(--fill-color);\n",
              "      border-top-color: var(--fill-color);\n",
              "      border-right-color: var(--fill-color);\n",
              "    }\n",
              "    40% {\n",
              "      border-color: transparent;\n",
              "      border-right-color: var(--fill-color);\n",
              "      border-top-color: var(--fill-color);\n",
              "    }\n",
              "    60% {\n",
              "      border-color: transparent;\n",
              "      border-right-color: var(--fill-color);\n",
              "    }\n",
              "    80% {\n",
              "      border-color: transparent;\n",
              "      border-right-color: var(--fill-color);\n",
              "      border-bottom-color: var(--fill-color);\n",
              "    }\n",
              "    90% {\n",
              "      border-color: transparent;\n",
              "      border-bottom-color: var(--fill-color);\n",
              "    }\n",
              "  }\n",
              "</style>\n",
              "\n",
              "  <script>\n",
              "    async function quickchart(key) {\n",
              "      const quickchartButtonEl =\n",
              "        document.querySelector('#' + key + ' button');\n",
              "      quickchartButtonEl.disabled = true;  // To prevent multiple clicks.\n",
              "      quickchartButtonEl.classList.add('colab-df-spinner');\n",
              "      try {\n",
              "        const charts = await google.colab.kernel.invokeFunction(\n",
              "            'suggestCharts', [key], {});\n",
              "      } catch (error) {\n",
              "        console.error('Error during call to suggestCharts:', error);\n",
              "      }\n",
              "      quickchartButtonEl.classList.remove('colab-df-spinner');\n",
              "      quickchartButtonEl.classList.add('colab-df-quickchart-complete');\n",
              "    }\n",
              "    (() => {\n",
              "      let quickchartButtonEl =\n",
              "        document.querySelector('#df-76500c96-3e78-47ee-ad1d-bf672af8d0ca button');\n",
              "      quickchartButtonEl.style.display =\n",
              "        google.colab.kernel.accessAllowed ? 'block' : 'none';\n",
              "    })();\n",
              "  </script>\n",
              "</div>\n",
              "\n",
              "    </div>\n",
              "  </div>\n"
            ],
            "application/vnd.google.colaboratory.intrinsic+json": {
              "type": "dataframe",
              "variable_name": "df_train"
            }
          },
          "metadata": {},
          "execution_count": 18
        }
      ]
    },
    {
      "cell_type": "code",
      "source": [
        "# Encode categorical variables\n",
        "categorical_cols = ['City', 'City Group', 'Type']\n",
        "df_train = pd.get_dummies(df_train, columns=categorical_cols, drop_first=True)\n",
        "df_test = pd.get_dummies(df_test, columns=categorical_cols, drop_first=True)"
      ],
      "metadata": {
        "id": "9ajPI-O8ovsE"
      },
      "execution_count": null,
      "outputs": []
    },
    {
      "cell_type": "code",
      "source": [
        "# Ensure same columns in test and train (in case encoding causes mismatch)\n",
        "df_test = df_test.reindex(columns=df_train.columns.drop('revenue'), fill_value=0)"
      ],
      "metadata": {
        "id": "f_y3xP01o8zL"
      },
      "execution_count": null,
      "outputs": []
    },
    {
      "cell_type": "code",
      "source": [
        "# Split into features and target\n",
        "X_train = df_train.drop('revenue', axis=1)\n",
        "y_train = df_train['revenue']\n",
        "X_test = df_test\n"
      ],
      "metadata": {
        "id": "LZFNXhOtpBrD"
      },
      "execution_count": null,
      "outputs": []
    },
    {
      "cell_type": "code",
      "source": [
        "# Scale numerical features\n",
        "scaler = StandardScaler()\n",
        "X_train_scaled = scaler.fit_transform(X_train)\n",
        "X_test_scaled = scaler.transform(X_test)"
      ],
      "metadata": {
        "id": "BuLkauBnpKGM"
      },
      "execution_count": null,
      "outputs": []
    },
    {
      "cell_type": "markdown",
      "source": [
        "# Random Forest Regressor"
      ],
      "metadata": {
        "id": "fSYAt9OmqYXG"
      }
    },
    {
      "cell_type": "code",
      "source": [
        "# Hyperparameter grid\n",
        "rf_params = {\n",
        "    'n_estimators': [100, 200, 300],\n",
        "    'max_depth': [5, 10, None],\n",
        "    'min_samples_split': [2, 5, 10],\n",
        "    'min_samples_leaf': [1, 2, 4]\n",
        "}\n",
        "\n",
        "# Initialize model\n",
        "rf = RandomForestRegressor(random_state=42)\n",
        "\n",
        "# Grid search with cross-validation\n",
        "rf_grid = GridSearchCV(rf, rf_params, cv=5, scoring='neg_mean_squared_error', verbose=1, n_jobs=-1)\n",
        "rf_grid.fit(X_train_scaled, y_train)\n",
        "\n",
        "# Best model\n",
        "rf_best = rf_grid.best_estimator_\n",
        "print(f\"Best Random Forest Parameters: {rf_grid.best_params_}\")"
      ],
      "metadata": {
        "colab": {
          "base_uri": "https://localhost:8080/"
        },
        "id": "tpZV-2RJpT2_",
        "outputId": "e0d1b79f-ebab-443b-9d60-687fff8ec349"
      },
      "execution_count": null,
      "outputs": [
        {
          "output_type": "stream",
          "name": "stdout",
          "text": [
            "Fitting 5 folds for each of 81 candidates, totalling 405 fits\n",
            "Best Random Forest Parameters: {'max_depth': 10, 'min_samples_leaf': 4, 'min_samples_split': 2, 'n_estimators': 200}\n"
          ]
        }
      ]
    },
    {
      "cell_type": "code",
      "source": [
        "# Make a submissoin file for score result\n",
        "rf_predictions = rf_best.predict(X_test_scaled)\n",
        "\n",
        "# Manually create the Id column starting from 0\n",
        "submission = pd.DataFrame({\n",
        "    'Id': range(0, len(rf_predictions)),  # Create a sequential Id column starting at 0\n",
        "    'Prediction': rf_predictions         # Use predictions from rf_best\n",
        "})\n",
        "\n",
        "# Save the submission file as a CSV\n",
        "submission.to_csv('rf_submission.csv', index=False)\n",
        "\n",
        "print(\"Submission file 'rf_submission.csv' created successfully!\")\n",
        "\n",
        "\n",
        "\n"
      ],
      "metadata": {
        "colab": {
          "base_uri": "https://localhost:8080/"
        },
        "id": "Y2Q8rn49qgL7",
        "outputId": "ef1b98f1-8871-4c8f-bc67-46babb940520"
      },
      "execution_count": null,
      "outputs": [
        {
          "output_type": "stream",
          "name": "stdout",
          "text": [
            "Submission file 'rf_submission.csv' created successfully!\n"
          ]
        }
      ]
    },
    {
      "cell_type": "markdown",
      "source": [
        "#Decision Tree Regressor"
      ],
      "metadata": {
        "id": "ZBdImqZbrgyN"
      }
    },
    {
      "cell_type": "code",
      "source": [
        "# Hyperparameter grid\n",
        "dt_params = {\n",
        "    'max_depth': [10, 15, 20, 25, 30],\n",
        "    'min_samples_split': [2, 3, 5, 7],\n",
        "    'min_samples_leaf': [1, 2, 3, 5],\n",
        "    'max_features': [None, 'sqrt', 'log2'],\n",
        "    'min_impurity_decrease': [0.0, 0.001, 0.005, 0.01],\n",
        "    'ccp_alpha': [0.0, 0.001, 0.005, 0.01]\n",
        "}\n",
        "\n",
        "# Initialize model\n",
        "dt = DecisionTreeRegressor(random_state=42)\n",
        "\n",
        "# Grid search with cross-validation\n",
        "dt_grid = GridSearchCV(dt, dt_params, cv=5, scoring='neg_mean_squared_error', verbose=1, n_jobs=-1)\n",
        "dt_grid.fit(X_train_scaled, y_train)\n",
        "\n",
        "# Best model\n",
        "dt_best = dt_grid.best_estimator_\n",
        "print(f\"Best Decision Tree Parameters: {dt_grid.best_params_}\")\n"
      ],
      "metadata": {
        "colab": {
          "base_uri": "https://localhost:8080/"
        },
        "id": "sPeclPnDrghr",
        "outputId": "9a8e6a0d-48e4-4ce6-bda4-52b176f10244"
      },
      "execution_count": null,
      "outputs": [
        {
          "output_type": "stream",
          "name": "stdout",
          "text": [
            "Fitting 5 folds for each of 3840 candidates, totalling 19200 fits\n",
            "Best Decision Tree Parameters: {'ccp_alpha': 0.0, 'max_depth': 10, 'max_features': 'sqrt', 'min_impurity_decrease': 0.0, 'min_samples_leaf': 5, 'min_samples_split': 2}\n"
          ]
        }
      ]
    },
    {
      "cell_type": "code",
      "source": [
        "# 테스트 세트에 대해 예측값 생성\n",
        "dt_predictions = dt_best.predict(X_test_scaled)\n",
        "\n",
        "# 제출 데이터프레임 생성\n",
        "submission_dt = pd.DataFrame({\n",
        "    'Id': range(0, len(dt_predictions)),  # Id는 0부터 시작\n",
        "    'Prediction': dt_predictions          # Decision Tree 예측값\n",
        "})\n",
        "\n",
        "# 제출 파일 저장\n",
        "submission_dt.to_csv('dt_submission.csv', index=False)\n",
        "\n",
        "print(\"Submission file 'dt_submission.csv' created successfully!\")\n"
      ],
      "metadata": {
        "colab": {
          "base_uri": "https://localhost:8080/"
        },
        "id": "OuuNJIVEragF",
        "outputId": "7e7f101b-a609-4bce-842a-1d2ca325b46c"
      },
      "execution_count": null,
      "outputs": [
        {
          "output_type": "stream",
          "name": "stdout",
          "text": [
            "Submission file 'dt_submission.csv' created successfully!\n"
          ]
        }
      ]
    },
    {
      "cell_type": "markdown",
      "source": [
        "# MLP Regressor"
      ],
      "metadata": {
        "id": "SfUPJiDPrkRK"
      }
    },
    {
      "cell_type": "code",
      "source": [
        "from sklearn.model_selection import RandomizedSearchCV\n",
        "# Hyperparameter grid\n",
        "mlp_params = {\n",
        "    'hidden_layer_sizes': [(50,), (100,), (100, 50)],\n",
        "    'activation': ['relu'],\n",
        "    'solver': ['adam'],\n",
        "    'alpha': [0.0001, 0.001, 0.01],\n",
        "    'learning_rate': ['adaptive'],\n",
        "    'batch_size': ['auto'],\n",
        "    'learning_rate_init': [0.0001, 0.001],\n",
        "    'max_iter': [2000]\n",
        "}\n",
        "\n",
        "# Initialize model\n",
        "mlp = MLPRegressor(max_iter=2000, random_state=42)\n",
        "\n",
        "mlp_random = RandomizedSearchCV(\n",
        "    estimator=mlp,\n",
        "    param_distributions=mlp_params,\n",
        "    n_iter=10,\n",
        "    cv=5,\n",
        "    scoring='neg_mean_squared_error',\n",
        "    verbose=1,\n",
        "    random_state=42,\n",
        "    n_jobs=-1\n",
        ")\n",
        "\n",
        "\n",
        "mlp_random.fit(X_train_scaled, y_train)\n",
        "\n",
        "# 최적 모델 출력\n",
        "mlp_best = mlp_random.best_estimator_\n",
        "print(f\"Best MLP Parameters: {mlp_random.best_params_}\")"
      ],
      "metadata": {
        "colab": {
          "base_uri": "https://localhost:8080/"
        },
        "id": "Kb-msMZWrm3_",
        "outputId": "a7ac2e4f-6d46-44c4-fae0-b9fedb03e5e3"
      },
      "execution_count": null,
      "outputs": [
        {
          "output_type": "stream",
          "name": "stdout",
          "text": [
            "Fitting 5 folds for each of 10 candidates, totalling 50 fits\n",
            "Best MLP Parameters: {'solver': 'adam', 'max_iter': 2000, 'learning_rate_init': 0.001, 'learning_rate': 'adaptive', 'hidden_layer_sizes': (100, 50), 'batch_size': 'auto', 'alpha': 0.0001, 'activation': 'relu'}\n"
          ]
        },
        {
          "output_type": "stream",
          "name": "stderr",
          "text": [
            "/usr/local/lib/python3.10/dist-packages/sklearn/neural_network/_multilayer_perceptron.py:690: ConvergenceWarning: Stochastic Optimizer: Maximum iterations (2000) reached and the optimization hasn't converged yet.\n",
            "  warnings.warn(\n"
          ]
        }
      ]
    },
    {
      "cell_type": "code",
      "source": [
        "# Generate predictions for the test set\n",
        "mlp_predictions = mlp_best.predict(X_test_scaled) * y_train.max()  # Reverse normalization if applied\n",
        "\n",
        "# Create submission DataFrame\n",
        "submission_mlp = pd.DataFrame({\n",
        "    'Id': range(0, len(mlp_predictions)),\n",
        "    'Prediction': mlp_predictions\n",
        "})\n",
        "\n",
        "# Save to CSV\n",
        "submission_mlp.to_csv('mlp_submission.csv', index=False)\n",
        "print(\"Submission file 'mlp_submission.csv' created successfully!\")"
      ],
      "metadata": {
        "colab": {
          "base_uri": "https://localhost:8080/"
        },
        "id": "WYl7i0q_vD5Y",
        "outputId": "99146c94-8420-4586-ff6d-b661190eb670"
      },
      "execution_count": null,
      "outputs": [
        {
          "output_type": "stream",
          "name": "stdout",
          "text": [
            "Submission file 'mlp_submission.csv' created successfully!\n"
          ]
        }
      ]
    },
    {
      "cell_type": "markdown",
      "source": [
        "# Stacking"
      ],
      "metadata": {
        "id": "AoKOSjSaTXHY"
      }
    },
    {
      "cell_type": "code",
      "source": [
        "from sklearn.linear_model import LinearRegression\n",
        "\n",
        "# Generate out-of-sample predictions for stacking\n",
        "train_preds_rf = rf_best.predict(X_train_scaled)\n",
        "train_preds_dt = dt_best.predict(X_train_scaled)\n",
        "train_preds_mlp = mlp_best.predict(X_train_scaled)\n",
        "\n",
        "test_preds_rf = rf_best.predict(X_test_scaled)\n",
        "test_preds_dt = dt_best.predict(X_test_scaled)\n",
        "test_preds_mlp = mlp_best.predict(X_test_scaled)\n",
        "\n",
        "# Combine predictions into new feature sets\n",
        "stack_train = np.column_stack((train_preds_rf, train_preds_dt, train_preds_mlp))\n",
        "stack_test = np.column_stack((test_preds_rf, test_preds_dt, test_preds_mlp))\n",
        "\n",
        "# Initialize meta-model\n",
        "meta_model = LinearRegression()\n",
        "\n",
        "# Train meta-model on stacked features\n",
        "meta_model.fit(stack_train, y_train)\n",
        "\n",
        "# Predict on test set\n",
        "final_predictions = meta_model.predict(stack_test)\n"
      ],
      "metadata": {
        "id": "ragrhnXX9TvP"
      },
      "execution_count": null,
      "outputs": []
    },
    {
      "cell_type": "code",
      "source": [
        "# Create submission DataFrame\n",
        "submission_stacked = pd.DataFrame({\n",
        "    'Id': range(0, len(final_predictions)),\n",
        "    'Prediction': final_predictions\n",
        "})\n",
        "\n",
        "# Save to CSV\n",
        "submission_stacked.to_csv('stacked_submission.csv', index=False)\n",
        "\n",
        "print(\"Submission file 'stacked_submission.csv' created successfully!\")\n"
      ],
      "metadata": {
        "colab": {
          "base_uri": "https://localhost:8080/"
        },
        "id": "H78HCuAwTaZe",
        "outputId": "7b9cf0b2-e9d7-4bb8-dba7-6668c90cbea2"
      },
      "execution_count": null,
      "outputs": [
        {
          "output_type": "stream",
          "name": "stdout",
          "text": [
            "Submission file 'stacked_submission.csv' created successfully!\n"
          ]
        }
      ]
    },
    {
      "cell_type": "markdown",
      "source": [
        "# Hyperparameter tuning stacking"
      ],
      "metadata": {
        "id": "jr5m3Wt-UIQu"
      }
    },
    {
      "cell_type": "code",
      "source": [
        "from sklearn.ensemble import RandomForestRegressor\n",
        "\n",
        "from sklearn.model_selection import GridSearchCV\n",
        "\n",
        "# 확장된 하이퍼파라미터 그리드\n",
        "meta_params = {\n",
        "    'n_estimators': [100, 200, 300],        # 트리 개수\n",
        "    'max_depth': [10, 20, None],            # 트리 깊이\n",
        "    'min_samples_split': [2, 5, 10],        # 분할을 위한 최소 샘플 수\n",
        "    'min_samples_leaf': [1, 2, 4],          # 리프 노드의 최소 샘플 수\n",
        "    'max_features': ['sqrt', 'log2', None], # 분할 시 고려할 최대 피처 수\n",
        "    'bootstrap': [True, False]              # 부트스트랩 샘플링 여부\n",
        "}\n",
        "\n",
        "# Random Forest Regressor 초기화\n",
        "meta_rf = RandomForestRegressor(random_state=42)\n",
        "\n",
        "# GridSearchCV를 사용한 하이퍼파라미터 튜닝\n",
        "meta_grid = GridSearchCV(\n",
        "    estimator=meta_rf,\n",
        "    param_grid=meta_params,\n",
        "    cv=10,  # Cross-validation fold 수를 증가\n",
        "    scoring='neg_mean_squared_error',\n",
        "    verbose=1,\n",
        "    n_jobs=-1\n",
        ")\n",
        "\n",
        "# Stacked train 데이터로 학습\n",
        "meta_grid.fit(stack_train, y_train)\n",
        "\n",
        "# 최적의 meta-model 출력\n",
        "meta_best = meta_grid.best_estimator_\n",
        "print(f\"Best Meta-Model Parameters: {meta_grid.best_params_}\")\n",
        "\n",
        "# 테스트 데이터에서 최종 예측 수행\n",
        "final_predictions = meta_best.predict(stack_test)\n",
        "\n",
        "# 제출 파일 생성\n",
        "submission_stacked = pd.DataFrame({\n",
        "    'Id': range(0, len(final_predictions)),  # 0부터 시작하는 Id 열 생성\n",
        "    'Prediction': final_predictions\n",
        "})\n",
        "\n",
        "# CSV 파일로 저장\n",
        "submission_stacked.to_csv('stacked_submission.csv', index=False)\n",
        "print(\"Tuned Stacked Model submission file 'stacked_submission.csv' created!\")\n",
        "\n"
      ],
      "metadata": {
        "colab": {
          "base_uri": "https://localhost:8080/"
        },
        "id": "yv-n72ACTraz",
        "outputId": "3670422e-defc-42c5-9706-c35cdeda2170"
      },
      "execution_count": null,
      "outputs": [
        {
          "output_type": "stream",
          "name": "stdout",
          "text": [
            "Fitting 10 folds for each of 486 candidates, totalling 4860 fits\n",
            "Best Meta-Model Parameters: {'bootstrap': True, 'max_depth': 10, 'max_features': None, 'min_samples_leaf': 1, 'min_samples_split': 10, 'n_estimators': 100}\n",
            "Tuned Stacked Model submission file 'stacked_submission.csv' created!\n"
          ]
        }
      ]
    },
    {
      "cell_type": "code",
      "source": [],
      "metadata": {
        "id": "rPXPSpG0UF9n"
      },
      "execution_count": null,
      "outputs": []
    }
  ]
}